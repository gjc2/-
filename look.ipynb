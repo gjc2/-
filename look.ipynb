{
 "cells": [
  {
   "cell_type": "code",
   "execution_count": 1,
   "metadata": {
    "collapsed": true
   },
   "outputs": [],
   "source": [
    "import torch\n",
    "from datasets import load_dataset\n",
    "from transformers import BertTokenizer"
   ]
  },
  {
   "cell_type": "code",
   "execution_count": 2,
   "outputs": [
    {
     "name": "stderr",
     "output_type": "stream",
     "text": [
      "Found cached dataset json (C:/Users/A/.cache/huggingface/datasets/json/CAIL2019-相似案例匹配-dafaae681c98ad2a/0.0.0/e347ab1c932092252e717ff3f949105a4dd28b27e842dd53157d2f72e276c2e4)\n"
     ]
    }
   ],
   "source": [
    "dataset = load_dataset(\"CAIL2019-相似案例匹配\", split='train')"
   ],
   "metadata": {
    "collapsed": false,
    "pycharm": {
     "name": "#%%\n"
    }
   }
  },
  {
   "cell_type": "code",
   "execution_count": 3,
   "outputs": [
    {
     "data": {
      "text/plain": "(5102, 4)"
     },
     "execution_count": 3,
     "metadata": {},
     "output_type": "execute_result"
    }
   ],
   "source": [
    "dataset.shape"
   ],
   "metadata": {
    "collapsed": false,
    "pycharm": {
     "name": "#%%\n"
    }
   }
  },
  {
   "cell_type": "code",
   "execution_count": 4,
   "outputs": [
    {
     "data": {
      "text/plain": "datasets.arrow_dataset.Dataset"
     },
     "execution_count": 4,
     "metadata": {},
     "output_type": "execute_result"
    }
   ],
   "source": [
    "type(dataset)"
   ],
   "metadata": {
    "collapsed": false,
    "pycharm": {
     "name": "#%%\n"
    }
   }
  },
  {
   "cell_type": "code",
   "execution_count": 5,
   "outputs": [
    {
     "data": {
      "text/plain": "{'B': '原告：邓某1，男，汉族，1972年4月出生，住重庆市南岸区。委托代理人：张晓露，重庆永和律师事务所律师。被告：曾某1，男，汉族，1964年10月出生，住重庆市巴南区。被告：古某1，女，汉族，1963年4月出生，住重庆市江北区。被告：唐某1，女，汉族，1945年5月出生，住重庆市南岸区。被告：曾某2，女，汉族，1972年11月出生，住重庆市南岸区。被告：曾某3，女，汉族，1970年10月出生，住重庆市南岸区。\\n\\n邓某1诉称：2014年8月4日，曾某1、古某1因经营需要向其借款112万元，约定2014年8月7日前还款，邓某1根据借款人的要求，将111万元按照《借款协议》的要求，打入赵艳标的银行账户，现金支付了1万元给曾某1，邓某1履行了提供借款112万元的义务，但借款人没有完全履行还款义务。唐某1、曾某2及曾某3为担保人。故邓某1起诉请求判决：1．借款人曾某1、古某1共同返还借款本金112万元及支付利息，息以112万元为基数，从2014年8月4日起按中国人民银行同期同类贷款利率4倍计算至付清之日；2．被告唐某1、曾某2、曾某3对上述第1项诉讼请求承担连带支付责任；3．本案诉讼费由被告承担。曾某1、古丽君、唐某1、曾某2、曾某3均未提交书面答辩意见。经审理查明：2014年8月4日，曾某1、古某1与邓某1签订《借款协议》，约定曾某1、古某1向邓某1共同借款112万元，2014年8月7日前归还，唐某1为担保人。2014年8月31日，曾某3、曾某2与邓某1签订《保证担保合同》，约定曾某3、曾某2为112万元提供连带保证责任，担保期限为主合同履行期限届满之日后两年等。2014年8月4日，邓某1向赵艳标账户转款111万元。上述事实，有当事人陈述及《借款协议》、《保证担保合同》、工行转款凭证、南岸区人民法院受理案件通知书及材料交接清单等证据在卷佐证，事实清楚，足以认定。\\n',\n 'A': '原告：陈某1，女，1965年11月12日出生，汉族，住河南省沁阳市。被告：崔某1，男，1965年8月25日出生，汉族，住河南省温县，现住河南省沁阳市。被告：张某1，女，1967年6月8日出生，住河南省温县，现住河南省沁阳市。\\n\\n原告陈某1向本院提出诉讼请求：1、判令被告立即偿还原告本金60000元及利息（利息按月息2分计算从2018年3月22日起至还款之日止）。2、诉讼费由被告承担。事实和理由：2017年5月21日，被告崔某1、张某1以做生意为由向原告借款50000元，2017年11月4日二被告再次向原告借款10000元。借钱时协议10000元每月利息200元每月21日付清当月利息。被告从2018年3月22日不再支付利息。经原告多次催要，被告均以无钱为由推托。故原告提起诉讼，请求法院依法判决。被告崔某1未作答辩。被告张某1辩称，基本事实无异议，借原告的钱是为了做太极拳推广事业，由于资金周转困难，现在没有钱偿还原告。本案当事人围绕诉讼请求依法提交了证据，本院组织当事人对原告方提供的证据进行了质证。对当事人无异议的证据，本院予以确认并在卷佐证。经审理，本院可以确认以下案件事实：被告崔某1、张某1系夫妻关系，2017年5月21日，二被告向原告借款50000元，由被告崔某1为原告出具借条，载明：今借到陈某1现金五万元整（50000.00）2017年5月21号崔某1。2017年11月4日，二被告向原告借款50000元，由被告崔某1为原告出具借条，载明：今借到陈某1现金壹万元整（10000.00）2017年11月4号崔某1。二被告向原告支付利息至2018年3月22日。\\n',\n 'label': 'C',\n 'C': '原告钟某1，女，身份证号码×××0908，汉族，现住五华县。被告余某1，男，身份证号码×××2530，汉族，现住五华县。\\n\\n原告钟某1诉称，2014年4月份，被告余某1因资金周转困难陆陆续续向原告借款合计44300元，双方没有约定借款利息。借款后，原告要求被告写一张借条，因此被告在2014年10月3日亲笔写了一份借条给原告收执，被告也在借条上亲笔签了名。被告在写下借条后没有偿还借款。后经原告催收，被告拒绝偿还，原告故诉至法院要求：一、被告偿还借款本金44300元及支付从起诉之日起按中国人民银行同期同类贷款利率计至还清欠款之日止的利息；二、诉讼费用由被告承担。原告为支持其诉请，向本院提交了以下证据：1、原告钟某1身份证复印件，证明原告身份；2、2014年10月3日被告余某1签名的借条，证明被告余某1欠原告钟某1本金44300元。被告余某1辩称，是欠了原告本金44300元，但没有约定利息，不同意支付利息。经审理查明，被告余某1因资金周转困难，于2014年4月开始陆续向原告钟某1共借款44300元，被告于2014年10月3日写了张借条交原告收执，该“借条”载明：“今借人：余某1借到钟某144300大写肆万肆千叁百元。今借人：余某12014年10月3日”。后经原告催收，被告拒不偿还，原告故诉至法院要求：一、判令被告偿还借款本金44300元及利息（利息以本金44300元从起诉之日起按中国人民银行同期同类贷款利率计至还清欠款之日止）；二、诉讼费用由被告承担。案经调解未果。\\n'}"
     },
     "execution_count": 5,
     "metadata": {},
     "output_type": "execute_result"
    }
   ],
   "source": [
    "dataset[1]"
   ],
   "metadata": {
    "collapsed": false,
    "pycharm": {
     "name": "#%%\n"
    }
   }
  },
  {
   "cell_type": "code",
   "execution_count": 12,
   "outputs": [
    {
     "data": {
      "text/plain": "Downloading (…)solve/main/vocab.txt:   0%|          | 0.00/110k [00:00<?, ?B/s]",
      "application/vnd.jupyter.widget-view+json": {
       "version_major": 2,
       "version_minor": 0,
       "model_id": "1a54189c10d448259c7ed16902fd0c76"
      }
     },
     "metadata": {},
     "output_type": "display_data"
    },
    {
     "data": {
      "text/plain": "Downloading (…)okenizer_config.json:   0%|          | 0.00/29.0 [00:00<?, ?B/s]",
      "application/vnd.jupyter.widget-view+json": {
       "version_major": 2,
       "version_minor": 0,
       "model_id": "7129d7f3454a41f08af8d28a5cc70148"
      }
     },
     "metadata": {},
     "output_type": "display_data"
    },
    {
     "data": {
      "text/plain": "Downloading (…)lve/main/config.json:   0%|          | 0.00/624 [00:00<?, ?B/s]",
      "application/vnd.jupyter.widget-view+json": {
       "version_major": 2,
       "version_minor": 0,
       "model_id": "07410a5dca4e4d789a8b256558ec7327"
      }
     },
     "metadata": {},
     "output_type": "display_data"
    },
    {
     "data": {
      "text/plain": "{'input_ids': [101, 872, 1962, 117, 686, 4518, 102], 'token_type_ids': [0, 0, 0, 0, 0, 0, 0], 'attention_mask': [1, 1, 1, 1, 1, 1, 1]}"
     },
     "execution_count": 12,
     "metadata": {},
     "output_type": "execute_result"
    }
   ],
   "source": [
    "tokenizer = BertTokenizer.from_pretrained(\"bert-base-chinese\")\n",
    "tokenizer(\"你好,世界\")"
   ],
   "metadata": {
    "collapsed": false,
    "pycharm": {
     "name": "#%%\n"
    }
   }
  },
  {
   "cell_type": "code",
   "execution_count": 30,
   "outputs": [
    {
     "data": {
      "text/plain": "tensor([[ 101,  872, 1962,  117,  686, 4518,  102],\n        [ 101, 2769, 3221,  102,    0,    0,    0]])"
     },
     "execution_count": 30,
     "metadata": {},
     "output_type": "execute_result"
    }
   ],
   "source": [
    "tokenizer([\"你好,世界\",\"我是\"] ,padding=True, truncation=True, max_length=8, return_tensors=\"pt\")['input_ids']"
   ],
   "metadata": {
    "collapsed": false,
    "pycharm": {
     "name": "#%%\n"
    }
   }
  },
  {
   "cell_type": "code",
   "execution_count": 17,
   "outputs": [
    {
     "data": {
      "text/plain": "21128"
     },
     "execution_count": 17,
     "metadata": {},
     "output_type": "execute_result"
    }
   ],
   "source": [
    "tokenizer.vocab_size"
   ],
   "metadata": {
    "collapsed": false,
    "pycharm": {
     "name": "#%%\n"
    }
   }
  },
  {
   "cell_type": "code",
   "execution_count": 20,
   "outputs": [
    {
     "data": {
      "text/plain": "OrderedDict([('[PAD]', 0),\n             ('[unused1]', 1),\n             ('[unused2]', 2),\n             ('[unused3]', 3),\n             ('[unused4]', 4),\n             ('[unused5]', 5),\n             ('[unused6]', 6),\n             ('[unused7]', 7),\n             ('[unused8]', 8),\n             ('[unused9]', 9),\n             ('[unused10]', 10),\n             ('[unused11]', 11),\n             ('[unused12]', 12),\n             ('[unused13]', 13),\n             ('[unused14]', 14),\n             ('[unused15]', 15),\n             ('[unused16]', 16),\n             ('[unused17]', 17),\n             ('[unused18]', 18),\n             ('[unused19]', 19),\n             ('[unused20]', 20),\n             ('[unused21]', 21),\n             ('[unused22]', 22),\n             ('[unused23]', 23),\n             ('[unused24]', 24),\n             ('[unused25]', 25),\n             ('[unused26]', 26),\n             ('[unused27]', 27),\n             ('[unused28]', 28),\n             ('[unused29]', 29),\n             ('[unused30]', 30),\n             ('[unused31]', 31),\n             ('[unused32]', 32),\n             ('[unused33]', 33),\n             ('[unused34]', 34),\n             ('[unused35]', 35),\n             ('[unused36]', 36),\n             ('[unused37]', 37),\n             ('[unused38]', 38),\n             ('[unused39]', 39),\n             ('[unused40]', 40),\n             ('[unused41]', 41),\n             ('[unused42]', 42),\n             ('[unused43]', 43),\n             ('[unused44]', 44),\n             ('[unused45]', 45),\n             ('[unused46]', 46),\n             ('[unused47]', 47),\n             ('[unused48]', 48),\n             ('[unused49]', 49),\n             ('[unused50]', 50),\n             ('[unused51]', 51),\n             ('[unused52]', 52),\n             ('[unused53]', 53),\n             ('[unused54]', 54),\n             ('[unused55]', 55),\n             ('[unused56]', 56),\n             ('[unused57]', 57),\n             ('[unused58]', 58),\n             ('[unused59]', 59),\n             ('[unused60]', 60),\n             ('[unused61]', 61),\n             ('[unused62]', 62),\n             ('[unused63]', 63),\n             ('[unused64]', 64),\n             ('[unused65]', 65),\n             ('[unused66]', 66),\n             ('[unused67]', 67),\n             ('[unused68]', 68),\n             ('[unused69]', 69),\n             ('[unused70]', 70),\n             ('[unused71]', 71),\n             ('[unused72]', 72),\n             ('[unused73]', 73),\n             ('[unused74]', 74),\n             ('[unused75]', 75),\n             ('[unused76]', 76),\n             ('[unused77]', 77),\n             ('[unused78]', 78),\n             ('[unused79]', 79),\n             ('[unused80]', 80),\n             ('[unused81]', 81),\n             ('[unused82]', 82),\n             ('[unused83]', 83),\n             ('[unused84]', 84),\n             ('[unused85]', 85),\n             ('[unused86]', 86),\n             ('[unused87]', 87),\n             ('[unused88]', 88),\n             ('[unused89]', 89),\n             ('[unused90]', 90),\n             ('[unused91]', 91),\n             ('[unused92]', 92),\n             ('[unused93]', 93),\n             ('[unused94]', 94),\n             ('[unused95]', 95),\n             ('[unused96]', 96),\n             ('[unused97]', 97),\n             ('[unused98]', 98),\n             ('[unused99]', 99),\n             ('[UNK]', 100),\n             ('[CLS]', 101),\n             ('[SEP]', 102),\n             ('[MASK]', 103),\n             ('<S>', 104),\n             ('<T>', 105),\n             ('!', 106),\n             ('\"', 107),\n             ('#', 108),\n             ('$', 109),\n             ('%', 110),\n             ('&', 111),\n             (\"'\", 112),\n             ('(', 113),\n             (')', 114),\n             ('*', 115),\n             ('+', 116),\n             (',', 117),\n             ('-', 118),\n             ('.', 119),\n             ('/', 120),\n             ('0', 121),\n             ('1', 122),\n             ('2', 123),\n             ('3', 124),\n             ('4', 125),\n             ('5', 126),\n             ('6', 127),\n             ('7', 128),\n             ('8', 129),\n             ('9', 130),\n             (':', 131),\n             (';', 132),\n             ('<', 133),\n             ('=', 134),\n             ('>', 135),\n             ('?', 136),\n             ('@', 137),\n             ('[', 138),\n             ('\\\\', 139),\n             (']', 140),\n             ('^', 141),\n             ('_', 142),\n             ('a', 143),\n             ('b', 144),\n             ('c', 145),\n             ('d', 146),\n             ('e', 147),\n             ('f', 148),\n             ('g', 149),\n             ('h', 150),\n             ('i', 151),\n             ('j', 152),\n             ('k', 153),\n             ('l', 154),\n             ('m', 155),\n             ('n', 156),\n             ('o', 157),\n             ('p', 158),\n             ('q', 159),\n             ('r', 160),\n             ('s', 161),\n             ('t', 162),\n             ('u', 163),\n             ('v', 164),\n             ('w', 165),\n             ('x', 166),\n             ('y', 167),\n             ('z', 168),\n             ('{', 169),\n             ('|', 170),\n             ('}', 171),\n             ('~', 172),\n             ('£', 173),\n             ('¤', 174),\n             ('¥', 175),\n             ('§', 176),\n             ('©', 177),\n             ('«', 178),\n             ('®', 179),\n             ('°', 180),\n             ('±', 181),\n             ('²', 182),\n             ('³', 183),\n             ('µ', 184),\n             ('·', 185),\n             ('¹', 186),\n             ('º', 187),\n             ('»', 188),\n             ('¼', 189),\n             ('×', 190),\n             ('ß', 191),\n             ('æ', 192),\n             ('÷', 193),\n             ('ø', 194),\n             ('đ', 195),\n             ('ŋ', 196),\n             ('ɔ', 197),\n             ('ə', 198),\n             ('ɡ', 199),\n             ('ʰ', 200),\n             ('ˇ', 201),\n             ('ˈ', 202),\n             ('ˊ', 203),\n             ('ˋ', 204),\n             ('ˍ', 205),\n             ('ː', 206),\n             ('˙', 207),\n             ('˚', 208),\n             ('ˢ', 209),\n             ('α', 210),\n             ('β', 211),\n             ('γ', 212),\n             ('δ', 213),\n             ('ε', 214),\n             ('η', 215),\n             ('θ', 216),\n             ('ι', 217),\n             ('κ', 218),\n             ('λ', 219),\n             ('μ', 220),\n             ('ν', 221),\n             ('ο', 222),\n             ('π', 223),\n             ('ρ', 224),\n             ('ς', 225),\n             ('σ', 226),\n             ('τ', 227),\n             ('υ', 228),\n             ('φ', 229),\n             ('χ', 230),\n             ('ψ', 231),\n             ('ω', 232),\n             ('а', 233),\n             ('б', 234),\n             ('в', 235),\n             ('г', 236),\n             ('д', 237),\n             ('е', 238),\n             ('ж', 239),\n             ('з', 240),\n             ('и', 241),\n             ('к', 242),\n             ('л', 243),\n             ('м', 244),\n             ('н', 245),\n             ('о', 246),\n             ('п', 247),\n             ('р', 248),\n             ('с', 249),\n             ('т', 250),\n             ('у', 251),\n             ('ф', 252),\n             ('х', 253),\n             ('ц', 254),\n             ('ч', 255),\n             ('ш', 256),\n             ('ы', 257),\n             ('ь', 258),\n             ('я', 259),\n             ('і', 260),\n             ('ا', 261),\n             ('ب', 262),\n             ('ة', 263),\n             ('ت', 264),\n             ('د', 265),\n             ('ر', 266),\n             ('س', 267),\n             ('ع', 268),\n             ('ل', 269),\n             ('م', 270),\n             ('ن', 271),\n             ('ه', 272),\n             ('و', 273),\n             ('ي', 274),\n             ('۩', 275),\n             ('ก', 276),\n             ('ง', 277),\n             ('น', 278),\n             ('ม', 279),\n             ('ย', 280),\n             ('ร', 281),\n             ('อ', 282),\n             ('า', 283),\n             ('เ', 284),\n             ('๑', 285),\n             ('་', 286),\n             ('ღ', 287),\n             ('ᄀ', 288),\n             ('ᄁ', 289),\n             ('ᄂ', 290),\n             ('ᄃ', 291),\n             ('ᄅ', 292),\n             ('ᄆ', 293),\n             ('ᄇ', 294),\n             ('ᄈ', 295),\n             ('ᄉ', 296),\n             ('ᄋ', 297),\n             ('ᄌ', 298),\n             ('ᄎ', 299),\n             ('ᄏ', 300),\n             ('ᄐ', 301),\n             ('ᄑ', 302),\n             ('ᄒ', 303),\n             ('ᅡ', 304),\n             ('ᅢ', 305),\n             ('ᅣ', 306),\n             ('ᅥ', 307),\n             ('ᅦ', 308),\n             ('ᅧ', 309),\n             ('ᅨ', 310),\n             ('ᅩ', 311),\n             ('ᅪ', 312),\n             ('ᅬ', 313),\n             ('ᅭ', 314),\n             ('ᅮ', 315),\n             ('ᅯ', 316),\n             ('ᅲ', 317),\n             ('ᅳ', 318),\n             ('ᅴ', 319),\n             ('ᅵ', 320),\n             ('ᆨ', 321),\n             ('ᆫ', 322),\n             ('ᆯ', 323),\n             ('ᆷ', 324),\n             ('ᆸ', 325),\n             ('ᆺ', 326),\n             ('ᆻ', 327),\n             ('ᆼ', 328),\n             ('ᗜ', 329),\n             ('ᵃ', 330),\n             ('ᵉ', 331),\n             ('ᵍ', 332),\n             ('ᵏ', 333),\n             ('ᵐ', 334),\n             ('ᵒ', 335),\n             ('ᵘ', 336),\n             ('‖', 337),\n             ('„', 338),\n             ('†', 339),\n             ('•', 340),\n             ('‥', 341),\n             ('‧', 342),\n             ('\\u2028', 343),\n             ('‰', 344),\n             ('′', 345),\n             ('″', 346),\n             ('‹', 347),\n             ('›', 348),\n             ('※', 349),\n             ('‿', 350),\n             ('⁄', 351),\n             ('ⁱ', 352),\n             ('⁺', 353),\n             ('ⁿ', 354),\n             ('₁', 355),\n             ('₂', 356),\n             ('₃', 357),\n             ('₄', 358),\n             ('€', 359),\n             ('℃', 360),\n             ('№', 361),\n             ('™', 362),\n             ('ⅰ', 363),\n             ('ⅱ', 364),\n             ('ⅲ', 365),\n             ('ⅳ', 366),\n             ('ⅴ', 367),\n             ('←', 368),\n             ('↑', 369),\n             ('→', 370),\n             ('↓', 371),\n             ('↔', 372),\n             ('↗', 373),\n             ('↘', 374),\n             ('⇒', 375),\n             ('∀', 376),\n             ('−', 377),\n             ('∕', 378),\n             ('∙', 379),\n             ('√', 380),\n             ('∞', 381),\n             ('∟', 382),\n             ('∠', 383),\n             ('∣', 384),\n             ('∥', 385),\n             ('∩', 386),\n             ('∮', 387),\n             ('∶', 388),\n             ('∼', 389),\n             ('∽', 390),\n             ('≈', 391),\n             ('≒', 392),\n             ('≡', 393),\n             ('≤', 394),\n             ('≥', 395),\n             ('≦', 396),\n             ('≧', 397),\n             ('≪', 398),\n             ('≫', 399),\n             ('⊙', 400),\n             ('⋅', 401),\n             ('⋈', 402),\n             ('⋯', 403),\n             ('⌒', 404),\n             ('①', 405),\n             ('②', 406),\n             ('③', 407),\n             ('④', 408),\n             ('⑤', 409),\n             ('⑥', 410),\n             ('⑦', 411),\n             ('⑧', 412),\n             ('⑨', 413),\n             ('⑩', 414),\n             ('⑴', 415),\n             ('⑵', 416),\n             ('⑶', 417),\n             ('⑷', 418),\n             ('⑸', 419),\n             ('⒈', 420),\n             ('⒉', 421),\n             ('⒊', 422),\n             ('⒋', 423),\n             ('ⓒ', 424),\n             ('ⓔ', 425),\n             ('ⓘ', 426),\n             ('─', 427),\n             ('━', 428),\n             ('│', 429),\n             ('┃', 430),\n             ('┅', 431),\n             ('┆', 432),\n             ('┊', 433),\n             ('┌', 434),\n             ('└', 435),\n             ('├', 436),\n             ('┣', 437),\n             ('═', 438),\n             ('║', 439),\n             ('╚', 440),\n             ('╞', 441),\n             ('╠', 442),\n             ('╭', 443),\n             ('╮', 444),\n             ('╯', 445),\n             ('╰', 446),\n             ('╱', 447),\n             ('╳', 448),\n             ('▂', 449),\n             ('▃', 450),\n             ('▅', 451),\n             ('▇', 452),\n             ('█', 453),\n             ('▉', 454),\n             ('▋', 455),\n             ('▌', 456),\n             ('▍', 457),\n             ('▎', 458),\n             ('■', 459),\n             ('□', 460),\n             ('▪', 461),\n             ('▫', 462),\n             ('▬', 463),\n             ('▲', 464),\n             ('△', 465),\n             ('▶', 466),\n             ('►', 467),\n             ('▼', 468),\n             ('▽', 469),\n             ('◆', 470),\n             ('◇', 471),\n             ('○', 472),\n             ('◎', 473),\n             ('●', 474),\n             ('◕', 475),\n             ('◠', 476),\n             ('◢', 477),\n             ('◤', 478),\n             ('☀', 479),\n             ('★', 480),\n             ('☆', 481),\n             ('☕', 482),\n             ('☞', 483),\n             ('☺', 484),\n             ('☼', 485),\n             ('♀', 486),\n             ('♂', 487),\n             ('♠', 488),\n             ('♡', 489),\n             ('♣', 490),\n             ('♥', 491),\n             ('♦', 492),\n             ('♪', 493),\n             ('♫', 494),\n             ('♬', 495),\n             ('✈', 496),\n             ('✔', 497),\n             ('✕', 498),\n             ('✖', 499),\n             ('✦', 500),\n             ('✨', 501),\n             ('✪', 502),\n             ('✰', 503),\n             ('✿', 504),\n             ('❀', 505),\n             ('❤', 506),\n             ('➜', 507),\n             ('➤', 508),\n             ('⦿', 509),\n             ('、', 510),\n             ('。', 511),\n             ('〃', 512),\n             ('々', 513),\n             ('〇', 514),\n             ('〈', 515),\n             ('〉', 516),\n             ('《', 517),\n             ('》', 518),\n             ('「', 519),\n             ('」', 520),\n             ('『', 521),\n             ('』', 522),\n             ('【', 523),\n             ('】', 524),\n             ('〓', 525),\n             ('〔', 526),\n             ('〕', 527),\n             ('〖', 528),\n             ('〗', 529),\n             ('〜', 530),\n             ('〝', 531),\n             ('〞', 532),\n             ('ぁ', 533),\n             ('あ', 534),\n             ('ぃ', 535),\n             ('い', 536),\n             ('う', 537),\n             ('ぇ', 538),\n             ('え', 539),\n             ('お', 540),\n             ('か', 541),\n             ('き', 542),\n             ('く', 543),\n             ('け', 544),\n             ('こ', 545),\n             ('さ', 546),\n             ('し', 547),\n             ('す', 548),\n             ('せ', 549),\n             ('そ', 550),\n             ('た', 551),\n             ('ち', 552),\n             ('っ', 553),\n             ('つ', 554),\n             ('て', 555),\n             ('と', 556),\n             ('な', 557),\n             ('に', 558),\n             ('ぬ', 559),\n             ('ね', 560),\n             ('の', 561),\n             ('は', 562),\n             ('ひ', 563),\n             ('ふ', 564),\n             ('へ', 565),\n             ('ほ', 566),\n             ('ま', 567),\n             ('み', 568),\n             ('む', 569),\n             ('め', 570),\n             ('も', 571),\n             ('ゃ', 572),\n             ('や', 573),\n             ('ゅ', 574),\n             ('ゆ', 575),\n             ('ょ', 576),\n             ('よ', 577),\n             ('ら', 578),\n             ('り', 579),\n             ('る', 580),\n             ('れ', 581),\n             ('ろ', 582),\n             ('わ', 583),\n             ('を', 584),\n             ('ん', 585),\n             ('゜', 586),\n             ('ゝ', 587),\n             ('ァ', 588),\n             ('ア', 589),\n             ('ィ', 590),\n             ('イ', 591),\n             ('ゥ', 592),\n             ('ウ', 593),\n             ('ェ', 594),\n             ('エ', 595),\n             ('ォ', 596),\n             ('オ', 597),\n             ('カ', 598),\n             ('キ', 599),\n             ('ク', 600),\n             ('ケ', 601),\n             ('コ', 602),\n             ('サ', 603),\n             ('シ', 604),\n             ('ス', 605),\n             ('セ', 606),\n             ('ソ', 607),\n             ('タ', 608),\n             ('チ', 609),\n             ('ッ', 610),\n             ('ツ', 611),\n             ('テ', 612),\n             ('ト', 613),\n             ('ナ', 614),\n             ('ニ', 615),\n             ('ヌ', 616),\n             ('ネ', 617),\n             ('ノ', 618),\n             ('ハ', 619),\n             ('ヒ', 620),\n             ('フ', 621),\n             ('ヘ', 622),\n             ('ホ', 623),\n             ('マ', 624),\n             ('ミ', 625),\n             ('ム', 626),\n             ('メ', 627),\n             ('モ', 628),\n             ('ャ', 629),\n             ('ヤ', 630),\n             ('ュ', 631),\n             ('ユ', 632),\n             ('ョ', 633),\n             ('ヨ', 634),\n             ('ラ', 635),\n             ('リ', 636),\n             ('ル', 637),\n             ('レ', 638),\n             ('ロ', 639),\n             ('ワ', 640),\n             ('ヲ', 641),\n             ('ン', 642),\n             ('ヶ', 643),\n             ('・', 644),\n             ('ー', 645),\n             ('ヽ', 646),\n             ('ㄅ', 647),\n             ('ㄆ', 648),\n             ('ㄇ', 649),\n             ('ㄉ', 650),\n             ('ㄋ', 651),\n             ('ㄌ', 652),\n             ('ㄍ', 653),\n             ('ㄎ', 654),\n             ('ㄏ', 655),\n             ('ㄒ', 656),\n             ('ㄚ', 657),\n             ('ㄛ', 658),\n             ('ㄞ', 659),\n             ('ㄟ', 660),\n             ('ㄢ', 661),\n             ('ㄤ', 662),\n             ('ㄥ', 663),\n             ('ㄧ', 664),\n             ('ㄨ', 665),\n             ('ㆍ', 666),\n             ('㈦', 667),\n             ('㊣', 668),\n             ('㎡', 669),\n             ('㗎', 670),\n             ('一', 671),\n             ('丁', 672),\n             ('七', 673),\n             ('万', 674),\n             ('丈', 675),\n             ('三', 676),\n             ('上', 677),\n             ('下', 678),\n             ('不', 679),\n             ('与', 680),\n             ('丐', 681),\n             ('丑', 682),\n             ('专', 683),\n             ('且', 684),\n             ('丕', 685),\n             ('世', 686),\n             ('丘', 687),\n             ('丙', 688),\n             ('业', 689),\n             ('丛', 690),\n             ('东', 691),\n             ('丝', 692),\n             ('丞', 693),\n             ('丟', 694),\n             ('両', 695),\n             ('丢', 696),\n             ('两', 697),\n             ('严', 698),\n             ('並', 699),\n             ('丧', 700),\n             ('丨', 701),\n             ('个', 702),\n             ('丫', 703),\n             ('中', 704),\n             ('丰', 705),\n             ('串', 706),\n             ('临', 707),\n             ('丶', 708),\n             ('丸', 709),\n             ('丹', 710),\n             ('为', 711),\n             ('主', 712),\n             ('丼', 713),\n             ('丽', 714),\n             ('举', 715),\n             ('丿', 716),\n             ('乂', 717),\n             ('乃', 718),\n             ('久', 719),\n             ('么', 720),\n             ('义', 721),\n             ('之', 722),\n             ('乌', 723),\n             ('乍', 724),\n             ('乎', 725),\n             ('乏', 726),\n             ('乐', 727),\n             ('乒', 728),\n             ('乓', 729),\n             ('乔', 730),\n             ('乖', 731),\n             ('乗', 732),\n             ('乘', 733),\n             ('乙', 734),\n             ('乜', 735),\n             ('九', 736),\n             ('乞', 737),\n             ('也', 738),\n             ('习', 739),\n             ('乡', 740),\n             ('书', 741),\n             ('乩', 742),\n             ('买', 743),\n             ('乱', 744),\n             ('乳', 745),\n             ('乾', 746),\n             ('亀', 747),\n             ('亂', 748),\n             ('了', 749),\n             ('予', 750),\n             ('争', 751),\n             ('事', 752),\n             ('二', 753),\n             ('于', 754),\n             ('亏', 755),\n             ('云', 756),\n             ('互', 757),\n             ('五', 758),\n             ('井', 759),\n             ('亘', 760),\n             ('亙', 761),\n             ('亚', 762),\n             ('些', 763),\n             ('亜', 764),\n             ('亞', 765),\n             ('亟', 766),\n             ('亡', 767),\n             ('亢', 768),\n             ('交', 769),\n             ('亥', 770),\n             ('亦', 771),\n             ('产', 772),\n             ('亨', 773),\n             ('亩', 774),\n             ('享', 775),\n             ('京', 776),\n             ('亭', 777),\n             ('亮', 778),\n             ('亲', 779),\n             ('亳', 780),\n             ('亵', 781),\n             ('人', 782),\n             ('亿', 783),\n             ('什', 784),\n             ('仁', 785),\n             ('仃', 786),\n             ('仄', 787),\n             ('仅', 788),\n             ('仆', 789),\n             ('仇', 790),\n             ('今', 791),\n             ('介', 792),\n             ('仍', 793),\n             ('从', 794),\n             ('仏', 795),\n             ('仑', 796),\n             ('仓', 797),\n             ('仔', 798),\n             ('仕', 799),\n             ('他', 800),\n             ('仗', 801),\n             ('付', 802),\n             ('仙', 803),\n             ('仝', 804),\n             ('仞', 805),\n             ('仟', 806),\n             ('代', 807),\n             ('令', 808),\n             ('以', 809),\n             ('仨', 810),\n             ('仪', 811),\n             ('们', 812),\n             ('仮', 813),\n             ('仰', 814),\n             ('仲', 815),\n             ('件', 816),\n             ('价', 817),\n             ('任', 818),\n             ('份', 819),\n             ('仿', 820),\n             ('企', 821),\n             ('伉', 822),\n             ('伊', 823),\n             ('伍', 824),\n             ('伎', 825),\n             ('伏', 826),\n             ('伐', 827),\n             ('休', 828),\n             ('伕', 829),\n             ('众', 830),\n             ('优', 831),\n             ('伙', 832),\n             ('会', 833),\n             ('伝', 834),\n             ('伞', 835),\n             ('伟', 836),\n             ('传', 837),\n             ('伢', 838),\n             ('伤', 839),\n             ('伦', 840),\n             ('伪', 841),\n             ('伫', 842),\n             ('伯', 843),\n             ('估', 844),\n             ('伴', 845),\n             ('伶', 846),\n             ('伸', 847),\n             ('伺', 848),\n             ('似', 849),\n             ('伽', 850),\n             ('佃', 851),\n             ('但', 852),\n             ('佇', 853),\n             ('佈', 854),\n             ('位', 855),\n             ('低', 856),\n             ('住', 857),\n             ('佐', 858),\n             ('佑', 859),\n             ('体', 860),\n             ('佔', 861),\n             ('何', 862),\n             ('佗', 863),\n             ('佘', 864),\n             ('余', 865),\n             ('佚', 866),\n             ('佛', 867),\n             ('作', 868),\n             ('佝', 869),\n             ('佞', 870),\n             ('佟', 871),\n             ('你', 872),\n             ('佢', 873),\n             ('佣', 874),\n             ('佤', 875),\n             ('佥', 876),\n             ('佩', 877),\n             ('佬', 878),\n             ('佯', 879),\n             ('佰', 880),\n             ('佳', 881),\n             ('併', 882),\n             ('佶', 883),\n             ('佻', 884),\n             ('佼', 885),\n             ('使', 886),\n             ('侃', 887),\n             ('侄', 888),\n             ('來', 889),\n             ('侈', 890),\n             ('例', 891),\n             ('侍', 892),\n             ('侏', 893),\n             ('侑', 894),\n             ('侖', 895),\n             ('侗', 896),\n             ('供', 897),\n             ('依', 898),\n             ('侠', 899),\n             ('価', 900),\n             ('侣', 901),\n             ('侥', 902),\n             ('侦', 903),\n             ('侧', 904),\n             ('侨', 905),\n             ('侬', 906),\n             ('侮', 907),\n             ('侯', 908),\n             ('侵', 909),\n             ('侶', 910),\n             ('侷', 911),\n             ('便', 912),\n             ('係', 913),\n             ('促', 914),\n             ('俄', 915),\n             ('俊', 916),\n             ('俎', 917),\n             ('俏', 918),\n             ('俐', 919),\n             ('俑', 920),\n             ('俗', 921),\n             ('俘', 922),\n             ('俚', 923),\n             ('保', 924),\n             ('俞', 925),\n             ('俟', 926),\n             ('俠', 927),\n             ('信', 928),\n             ('俨', 929),\n             ('俩', 930),\n             ('俪', 931),\n             ('俬', 932),\n             ('俭', 933),\n             ('修', 934),\n             ('俯', 935),\n             ('俱', 936),\n             ('俳', 937),\n             ('俸', 938),\n             ('俺', 939),\n             ('俾', 940),\n             ('倆', 941),\n             ('倉', 942),\n             ('個', 943),\n             ('倌', 944),\n             ('倍', 945),\n             ('倏', 946),\n             ('們', 947),\n             ('倒', 948),\n             ('倔', 949),\n             ('倖', 950),\n             ('倘', 951),\n             ('候', 952),\n             ('倚', 953),\n             ('倜', 954),\n             ('借', 955),\n             ('倡', 956),\n             ('値', 957),\n             ('倦', 958),\n             ('倩', 959),\n             ('倪', 960),\n             ('倫', 961),\n             ('倬', 962),\n             ('倭', 963),\n             ('倶', 964),\n             ('债', 965),\n             ('值', 966),\n             ('倾', 967),\n             ('偃', 968),\n             ('假', 969),\n             ('偈', 970),\n             ('偉', 971),\n             ('偌', 972),\n             ('偎', 973),\n             ('偏', 974),\n             ('偕', 975),\n             ('做', 976),\n             ('停', 977),\n             ('健', 978),\n             ('側', 979),\n             ('偵', 980),\n             ('偶', 981),\n             ('偷', 982),\n             ('偻', 983),\n             ('偽', 984),\n             ('偿', 985),\n             ('傀', 986),\n             ('傅', 987),\n             ('傍', 988),\n             ('傑', 989),\n             ('傘', 990),\n             ('備', 991),\n             ('傚', 992),\n             ('傢', 993),\n             ('傣', 994),\n             ('傥', 995),\n             ('储', 996),\n             ('傩', 997),\n             ('催', 998),\n             ('傭', 999),\n             ...])"
     },
     "execution_count": 20,
     "metadata": {},
     "output_type": "execute_result"
    }
   ],
   "source": [
    "tokenizer.vocab"
   ],
   "metadata": {
    "collapsed": false,
    "pycharm": {
     "name": "#%%\n"
    }
   }
  },
  {
   "cell_type": "code",
   "execution_count": 39,
   "outputs": [
    {
     "name": "stdout",
     "output_type": "stream",
     "text": [
      "1\n",
      "[0, 1]\n",
      "1\n",
      "[0, 1]\n"
     ]
    },
    {
     "data": {
      "text/plain": "{'accuracy': 0.5}"
     },
     "execution_count": 39,
     "metadata": {},
     "output_type": "execute_result"
    }
   ],
   "source": [
    "import evaluate\n",
    "\n",
    "accuracy = evaluate.load(\"accuracy\")\n",
    "\n",
    "\n",
    "for refs, preds in ([[0,1],[0,1]], [[1,0],[0,1]]):\n",
    "    print(1)\n",
    "    print(preds)\n",
    "    accuracy.add_batch(references=refs, predictions=preds)\n",
    "accuracy.compute()"
   ],
   "metadata": {
    "collapsed": false,
    "pycharm": {
     "name": "#%%\n"
    }
   }
  },
  {
   "cell_type": "code",
   "execution_count": 50,
   "outputs": [
    {
     "name": "stdout",
     "output_type": "stream",
     "text": [
      "1\n",
      "tensor([1, 0]) tensor([1, 1])\n",
      "1\n",
      "tensor([0, 1]) tensor([0, 0])\n"
     ]
    }
   ],
   "source": [
    "a = torch.tensor([[1,0],[0,1]])\n",
    "b = torch.tensor([[1,1],[0,0]])\n",
    "for x, y in zip(a, b):\n",
    "    print(1)\n",
    "    print(x, y)"
   ],
   "metadata": {
    "collapsed": false,
    "pycharm": {
     "name": "#%%\n"
    }
   }
  },
  {
   "cell_type": "code",
   "execution_count": 67,
   "outputs": [
    {
     "name": "stderr",
     "output_type": "stream",
     "text": [
      "Found cached dataset json (C:/Users/A/.cache/huggingface/datasets/json/CAIL2019-相似案例匹配-dafaae681c98ad2a/0.0.0/e347ab1c932092252e717ff3f949105a4dd28b27e842dd53157d2f72e276c2e4)\n",
      "Found cached dataset json (C:/Users/A/.cache/huggingface/datasets/json/CAIL2019-相似案例匹配-dafaae681c98ad2a/0.0.0/e347ab1c932092252e717ff3f949105a4dd28b27e842dd53157d2f72e276c2e4)\n",
      "Found cached dataset json (C:/Users/A/.cache/huggingface/datasets/json/CAIL2019-相似案例匹配-dafaae681c98ad2a/0.0.0/e347ab1c932092252e717ff3f949105a4dd28b27e842dd53157d2f72e276c2e4)\n"
     ]
    }
   ],
   "source": [
    "import datasets\n",
    "import torch\n",
    "import torch.nn as nn\n",
    "from transformers import BertTokenizer\n",
    "import torch.utils.data as data\n",
    "import torch.optim as optim\n",
    "import evaluate\n",
    "from tqdm import tqdm\n",
    "import matplotlib.pyplot as plt\n",
    "import sklearn\n",
    "# 1 data processor\n",
    "\n",
    "train_data = datasets.load_dataset(\"CAIL2019-相似案例匹配\", split='train')\n",
    "valid_data = datasets.load_dataset(\"CAIL2019-相似案例匹配\", split='validation')\n",
    "test_data = datasets.load_dataset(\"CAIL2019-相似案例匹配\", split='test')\n",
    "\n",
    "tokenizer = BertTokenizer.from_pretrained(\"bert-base-chinese\")\n",
    "\n",
    "\n",
    "def create_dataset(_set):\n",
    "    text, label = [], []\n",
    "    for item in _set:\n",
    "        _text = item['A'] + item['B'] + item['C']\n",
    "        _label = []\n",
    "        if item['label'] == 'B':\n",
    "            _label = [1, 0]\n",
    "        else:\n",
    "            _label = [0, 1]\n",
    "        text.append(_text)\n",
    "        label.append(_label)\n",
    "    return text, label\n",
    "\n",
    "\n",
    "train_data = create_dataset(train_data)"
   ],
   "metadata": {
    "collapsed": false,
    "pycharm": {
     "name": "#%%\n"
    }
   }
  },
  {
   "cell_type": "code",
   "execution_count": 68,
   "outputs": [
    {
     "name": "stderr",
     "output_type": "stream",
     "text": [
      "  0%|          | 0/5102 [00:00<?, ?it/s]Truncation was not explicitly activated but `max_length` is provided a specific value, please use `truncation=True` to explicitly truncate examples to max length. Defaulting to 'longest_first' truncation strategy. If you encode pairs of sequences (GLUE-style) with the tokenizer you can select this strategy more precisely by providing a specific strategy to `truncation`.\n",
      "100%|██████████| 5102/5102 [00:35<00:00, 141.90it/s]\n"
     ]
    },
    {
     "name": "stdout",
     "output_type": "stream",
     "text": [
      "2421\n",
      "1850.437475499804\n"
     ]
    },
    {
     "data": {
      "text/plain": "<Figure size 640x480 with 1 Axes>",
      "image/png": "[encoded data removed]"
     },
     "metadata": {},
     "output_type": "display_data"
    }
   ],
   "source": [
    "\n",
    "def show_data(data_set):\n",
    "    x, y = data_set\n",
    "    text_len=[len(tokenizer(_, max_length=10000)['input_ids']) for _ in tqdm(x)]\n",
    "    print(max(text_len))\n",
    "    print(sum(text_len)/len(text_len))\n",
    "    plt.hist(text_len,bins=100,density=True,cumulative=True,color='red')\n",
    "    plt.show()\n",
    "show_data(train_data)"
   ],
   "metadata": {
    "collapsed": false,
    "pycharm": {
     "name": "#%%\n"
    }
   }
  },
  {
   "cell_type": "code",
   "execution_count": 2,
   "outputs": [
    {
     "name": "stderr",
     "output_type": "stream",
     "text": [
      "No model was supplied, defaulted to sshleifer/distilbart-cnn-12-6 and revision a4f8f3e (https://huggingface.co/sshleifer/distilbart-cnn-12-6).\n",
      "Using a pipeline without specifying a model name and revision in production is not recommended.\n"
     ]
    },
    {
     "data": {
      "text/plain": "Downloading pytorch_model.bin:   0%|          | 0.00/1.22G [00:00<?, ?B/s]",
      "application/vnd.jupyter.widget-view+json": {
       "version_major": 2,
       "version_minor": 0,
       "model_id": "d37a0eb914c145d385cef7c03c9f9324"
      }
     },
     "metadata": {},
     "output_type": "display_data"
    },
    {
     "data": {
      "text/plain": "Downloading (…)okenizer_config.json:   0%|          | 0.00/26.0 [00:00<?, ?B/s]",
      "application/vnd.jupyter.widget-view+json": {
       "version_major": 2,
       "version_minor": 0,
       "model_id": "0b1811aaab914897842783b6f2ab460a"
      }
     },
     "metadata": {},
     "output_type": "display_data"
    },
    {
     "data": {
      "text/plain": "Downloading (…)olve/main/vocab.json:   0%|          | 0.00/899k [00:00<?, ?B/s]",
      "application/vnd.jupyter.widget-view+json": {
       "version_major": 2,
       "version_minor": 0,
       "model_id": "659f3a7632614cca99dbebcecb03c6e7"
      }
     },
     "metadata": {},
     "output_type": "display_data"
    },
    {
     "data": {
      "text/plain": "Downloading (…)olve/main/merges.txt:   0%|          | 0.00/456k [00:00<?, ?B/s]",
      "application/vnd.jupyter.widget-view+json": {
       "version_major": 2,
       "version_minor": 0,
       "model_id": "b6b5dad01245442a949391aeb9998862"
      }
     },
     "metadata": {},
     "output_type": "display_data"
    },
    {
     "name": "stderr",
     "output_type": "stream",
     "text": [
      "Your max_length is set to 142, but your input_length is only 53. Since this is a summarization task, where outputs shorter than the input are typically wanted, you might consider decreasing max_length manually, e.g. summarizer('...', max_length=26)\n"
     ]
    },
    {
     "data": {
      "text/plain": "[{'summary_text': ' 1972: 11:11:10:10日出生，10:\\xa010:30:00:00    晙�:  牉:  \\xa011:01:02:05:00;   11:01 :\\xa011,000 : 11,000,000\\xa0:\\xa012,000; \\xa010,000 more: \\xa0\\xa0- \\xa0- 11:000 \\xa0: \"I am happy to have a happy ending\"'}]"
     },
     "execution_count": 2,
     "metadata": {},
     "output_type": "execute_result"
    }
   ],
   "source": [
    "from transformers import pipeline\n",
    "\n",
    "summarizer = pipeline(\"summarization\")\n",
    "\n",
    "summarizer(\"\"\" 原告：牛某1，男，1972年11月10日出生，汉族，无业 \"\"\")"
   ],
   "metadata": {
    "collapsed": false,
    "pycharm": {
     "name": "#%%\n"
    }
   }
  },
  {
   "cell_type": "code",
   "execution_count": null,
   "outputs": [],
   "source": [
    "from transformers import PegasusForConditionalGeneration\n",
    "# Need to download tokenizers_pegasus.py and other Python script from Fengshenbang-LM github repo in advance,\n",
    "# or you can download tokenizers_pegasus.py and data_utils.py in https://huggingface.co/IDEA-CCNL/Randeng_Pegasus_523M/tree/main\n",
    "# Strongly recommend you git clone the Fengshenbang-LM repo:\n",
    "# 1. git clone https://github.com/IDEA-CCNL/Fengshenbang-LM\n",
    "# 2. cd Fengshenbang-LM/fengshen/examples/pegasus/\n",
    "# and then you will see the tokenizers_pegasus.py and data_utils.py which are needed by pegasus model\n",
    "\n",
    "from tokenizers_pegasus import PegasusTokenizer\n",
    "\n",
    "model = PegasusForConditionalGeneration.from_pretrained(\"IDEA-CCNL/Randeng-Pegasus-238M-Summary-Chinese\")\n",
    "tokenizer = PegasusTokenizer.from_pretrained(\"IDEA-CCNL/Randeng-Pegasus-238M-Summary-Chinese\")\n",
    "\n",
    "text = \"在北京冬奥会自由式滑雪女子坡面障碍技巧决赛中，中国选手谷爱凌夺得银牌。祝贺谷爱凌！今天上午，自由式滑雪女子坡面障碍技巧决赛举行。决赛分三轮进行，取选手最佳成绩排名决出奖牌。第一跳，中国选手谷爱凌获得69.90分。在12位选手中排名第三。完成动作后，谷爱凌又扮了个鬼脸，甚是可爱。第二轮中，谷爱凌在道具区第三个障碍处失误，落地时摔倒。获得16.98分。网友：摔倒了也没关系，继续加油！在第二跳失误摔倒的情况下，谷爱凌顶住压力，第三跳稳稳发挥，流畅落地！获得86.23分！此轮比赛，共12位选手参赛，谷爱凌第10位出场。网友：看比赛时我比谷爱凌紧张，加油！\"\n",
    "inputs = tokenizer(text, max_length=1024, return_tensors=\"pt\")\n",
    "\n",
    "# Generate Summary\n",
    "summary_ids = model.generate(inputs[\"input_ids\"])\n",
    "tokenizer.batch_decode(summary_ids, skip_special_tokens=True, clean_up_tokenization_spaces=False)[0]\n",
    "\n",
    "# model Output: 滑雪女子坡面障碍技巧决赛谷爱凌获银牌\n"
   ],
   "metadata": {
    "collapsed": false,
    "pycharm": {
     "name": "#%%\n"
    }
   }
  }
 ],
 "metadata": {
  "kernelspec": {
   "display_name": "Python 3",
   "language": "python",
   "name": "python3"
  },
  "language_info": {
   "codemirror_mode": {
    "name": "ipython",
    "version": 2
   },
   "file_extension": ".py",
   "mimetype": "text/x-python",
   "name": "python",
   "nbconvert_exporter": "python",
   "pygments_lexer": "ipython2",
   "version": "2.7.6"
  }
 },
 "nbformat": 4,
 "nbformat_minor": 0
}